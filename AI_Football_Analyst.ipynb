{
  "nbformat": 4,
  "nbformat_minor": 0,
  "metadata": {
    "colab": {
      "provenance": [],
      "authorship_tag": "ABX9TyNEwsy74/FaQKbmFI4TeYlM",
      "include_colab_link": true
    },
    "kernelspec": {
      "name": "python3",
      "display_name": "Python 3"
    },
    "language_info": {
      "name": "python"
    }
  },
  "cells": [
    {
      "cell_type": "markdown",
      "metadata": {
        "id": "view-in-github",
        "colab_type": "text"
      },
      "source": [
        "<a href=\"https://colab.research.google.com/github/Beyolandr7/ai-football-analyst/blob/main/AI_Football_Analyst.ipynb\" target=\"_parent\"><img src=\"https://colab.research.google.com/assets/colab-badge.svg\" alt=\"Open In Colab\"/></a>"
      ]
    },
    {
      "cell_type": "code",
      "execution_count": null,
      "metadata": {
        "id": "fMsWQciSC425"
      },
      "outputs": [],
      "source": [
        "!pip install langchain_community\n",
        "!pip install replicate"
      ]
    },
    {
      "cell_type": "markdown",
      "source": [
        "#Import LLM"
      ],
      "metadata": {
        "id": "Z3XankQiDiW9"
      }
    },
    {
      "cell_type": "code",
      "source": [
        "from langchain_community.llms import Replicate\n",
        "import os\n",
        "from google.colab import userdata\n",
        "# Set the API token\n",
        "api_token = userdata.get('REPLICATE_API_TOKEN')\n",
        "os.environ[\"REPLICATE_API_TOKEN\"] = api_token\n",
        "# Model setup\n",
        "model = \"ibm-granite/granite-3.2-8b-instruct\"\n",
        "output = Replicate(\n",
        "model=model,\n",
        "replicate_api_token=api_token,\n",
        ")"
      ],
      "metadata": {
        "id": "DoYI4peiDImC"
      },
      "execution_count": 4,
      "outputs": []
    },
    {
      "cell_type": "markdown",
      "source": [
        "#Parameters"
      ],
      "metadata": {
        "id": "phKP_smhDlFa"
      }
    },
    {
      "cell_type": "code",
      "source": [
        "parameters = {\n",
        "\"temperature\": 0.2,\n",
        "\"top_p\": 0.9,\n",
        "\"top_k\": 0,\n",
        "\"repetition_penalty\": 1.1,\n",
        "\"max_tokens\": 512\n",
        "}"
      ],
      "metadata": {
        "id": "Stx7qfFKDfbL"
      },
      "execution_count": null,
      "outputs": []
    },
    {
      "cell_type": "markdown",
      "source": [
        "#Analysis"
      ],
      "metadata": {
        "id": "yBKx9KWyH-1m"
      }
    },
    {
      "cell_type": "code",
      "source": [
        "import pandas as pd\n",
        "\n",
        "def analyze_epl_data(file_path):\n",
        "    \"\"\"\n",
        "    Analyzes EPL match data efficiently using pandas groupby operations.\n",
        "\n",
        "    Args:\n",
        "        file_path (str): The URL path to the EPL CSV file.\n",
        "\n",
        "    Returns:\n",
        "        pd.DataFrame: A DataFrame containing performance statistics for each team.\n",
        "    \"\"\"\n",
        "    try:\n",
        "        df = pd.read_csv(file_path)\n",
        "    except Exception as e:\n",
        "        print(f\"Error loading data from URL: {e}\")\n",
        "        return None\n",
        "\n",
        "    # --- Home Game Analysis ---\n",
        "    home_stats = df.groupby('HomeTeam').agg(\n",
        "        home_games=('HomeTeam', 'count'),\n",
        "        home_wins=('FullTimeResult', lambda x: (x == 'H').sum()),\n",
        "        home_draws=('FullTimeResult', lambda x: (x == 'D').sum()),\n",
        "        home_losses=('FullTimeResult', lambda x: (x == 'A').sum())\n",
        "    )\n",
        "    home_stats['home_win_pct'] = (home_stats['home_wins'] / home_stats['home_games']) * 100\n",
        "    home_stats['home_draw_pct'] = (home_stats['home_draws'] / home_stats['home_games']) * 100\n",
        "    home_stats['home_loss_pct'] = (home_stats['home_losses'] / home_stats['home_games']) * 100\n",
        "\n",
        "    # --- Away Game Analysis ---\n",
        "    away_stats = df.groupby('AwayTeam').agg(\n",
        "        away_games=('AwayTeam', 'count'),\n",
        "        away_wins=('FullTimeResult', lambda x: (x == 'A').sum()),\n",
        "        away_draws=('FullTimeResult', lambda x: (x == 'D').sum()),\n",
        "        away_losses=('FullTimeResult', lambda x: (x == 'H').sum())\n",
        "    )\n",
        "    away_stats['away_win_pct'] = (away_stats['away_wins'] / away_stats['away_games']) * 100\n",
        "    away_stats['away_draw_pct'] = (away_stats['away_draws'] / away_stats['away_games']) * 100\n",
        "    away_stats['away_loss_pct'] = (away_stats['away_losses'] / away_stats['away_games']) * 100\n",
        "\n",
        "    # --- Merge stats into a single DataFrame ---\n",
        "    merged_stats = pd.merge(\n",
        "        home_stats,\n",
        "        away_stats,\n",
        "        left_index=True,\n",
        "        right_index=True,\n",
        "        how='outer'\n",
        "    ).fillna(0)\n",
        "\n",
        "    return merged_stats.round(2)\n",
        "\n",
        "def generate_formatted_prompt(stats_df):\n",
        "    \"\"\"\n",
        "    Generates a detailed and clearly formatted prompt for the IBM Granite model.\n",
        "\n",
        "    Args:\n",
        "        stats_df (pd.DataFrame): DataFrame of team performance statistics.\n",
        "\n",
        "    Returns:\n",
        "        str: A formatted prompt string.\n",
        "    \"\"\"\n",
        "\n",
        "    # Build the data part of the prompt in a readable format\n",
        "    data_string = \"\"\n",
        "    for team, data in stats_df.iterrows():\n",
        "        data_string += f\"Club: {team}\\n\"\n",
        "        data_string += \"- Home Performance:\\n\"\n",
        "        data_string += f\"  - Wins: {data['home_win_pct']}%\\n\"\n",
        "        data_string += f\"  - Draws: {data['home_draw_pct']}%\\n\"\n",
        "        data_string += f\"  - Losses: {data['home_loss_pct']}%\\n\"\n",
        "        data_string += \"- Away Performance:\\n\"\n",
        "        data_string += f\"  - Wins: {data['away_win_pct']}%\\n\"\n",
        "        data_string += f\"  - Draws: {data['away_draw_pct']}%\\n\"\n",
        "        data_string += f\"  - Losses: {data['away_loss_pct']}%\\n\"\n",
        "        data_string += \"---\\n\" # Separator for clarity\n",
        "\n",
        "    prompt = f\"\"\"\n",
        "Act as an expert football analyst. Your task is to analyze the provided English Premier League match statistics.\n",
        "Based on the data below, classify each club's performance at home and away.\n",
        "\n",
        "After analyzing all clubs, conclude by identifying:\n",
        "- The top 3 clubs with the best home record (fortresses).\n",
        "- The top 3 clubs with the best away record (best travelers).\n",
        "- Add any other interesting findings that you find\n",
        "\n",
        "Here is the clearly formatted data:\n",
        "\n",
        "{data_string}\n",
        "\n",
        "Provide the analysis in a clear, structured format.\n",
        "\"\"\"\n",
        "    return prompt\n",
        "\n",
        "# --- Main Execution ---\n",
        "\n",
        "# \"raw\" GitHub URL to access CSV data directly\n",
        "github_url = 'https://raw.githubusercontent.com/Beyolandr7/ai-football-analyst/076a8380f54b7626f92b301c3662387bc03efce5/epl_match_stats.csv'\n",
        "\n",
        "# 1. Analyze the data\n",
        "all_team_stats_df = analyze_epl_data(github_url)\n",
        "\n",
        "if all_team_stats_df is not None:\n",
        "    # 2. Generate prompt\n",
        "    granite_prompt = generate_formatted_prompt(all_team_stats_df)\n",
        "\n",
        "    # 3. Invoke the model with the example prompt\n",
        "    response = output.invoke(granite_prompt)\n",
        "\n",
        "    # 4. Print the response\n",
        "    print(\"Granite Model Response:\\n\")\n",
        "    print(response)"
      ],
      "metadata": {
        "colab": {
          "base_uri": "https://localhost:8080/"
        },
        "id": "f0lyID7jIAYp",
        "outputId": "deee5392-4ac0-47b1-eec9-d605da83f824"
      },
      "execution_count": 15,
      "outputs": [
        {
          "output_type": "stream",
          "name": "stdout",
          "text": [
            "Granite Model Response:\n",
            "\n",
            "### Home Performance Analysis\n",
            "\n",
            "**Top 3 Clubs with the Best Home Record (Fortresses):**\n",
            "\n",
            "1. **Manchester City** - 65.11% wins\n",
            "   - Man City has an exceptional home record, winning over 65% of their matches at home, making them one of the strongest home teams in the Premier League.\n",
            "\n",
            "2. **Manchester United** - 67.8% wins\n",
            "   - Man United boasts the highest win percentage among home teams, winning nearly 68% of their home games. This demonstrates their formidable presence at Old Trafford.\n",
            "\n",
            "3. **Chelsea** - 63.75% wins\n",
            "   - Chelsea's home performance is also remarkable, with a win rate just below Manchester City and United. Stamford Bridge has traditionally been a tough place for opponents.\n",
            "\n",
            "### Away Performance Analysis\n",
            "\n",
            "**Top 3 Clubs with the Best Away Record (Best Travelers):**\n",
            "\n",
            "1. **Manchester City** - 46.0% wins\n",
            "   - Despite their dominance at home, Man City also performs well away from home, securing victories in nearly 46% of their away games, showcasing their ability to adapt to different venues.\n",
            "\n",
            "2. **Manchester United** - 49.89% wins\n",
            "   - Man United's away record is robust, with wins in just over 50% of their away matches, highlighting their consistency on the road.\n",
            "\n",
            "3. **Chelsea** - 50.0% wins\n",
            "   - Chelsea rounds out the top 3 away teams, with a win rate of 50% in their away fixtures, indicating they remain competitive regardless of the venue.\n",
            "\n",
            "### Other Notable Findings:\n",
            "\n",
            "- **Arsenal** stands out with a significant home advantage, winning 67.09% of their matches at the Emirates Stadium, but struggle more on the road with a 46.91% win rate.\n",
            "\n",
            "- **Birmingham** has the worst home record, winning only 36.92% of their matches at St. Andrew's, and the poorest away record, winning just 17.\n"
          ]
        }
      ]
    }
  ]
}